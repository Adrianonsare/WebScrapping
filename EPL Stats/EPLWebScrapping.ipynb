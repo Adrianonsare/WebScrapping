{
  "nbformat": 4,
  "nbformat_minor": 0,
  "metadata": {
    "colab": {
      "name": "EPLWebScrapping.ipynb",
      "private_outputs": true,
      "provenance": [],
      "collapsed_sections": [],
      "authorship_tag": "ABX9TyObuEu8in93onFvMXTd0guj",
      "include_colab_link": true
    },
    "kernelspec": {
      "name": "python3",
      "display_name": "Python 3"
    },
    "language_info": {
      "name": "python"
    }
  },
  "cells": [
    {
      "cell_type": "markdown",
      "metadata": {
        "id": "view-in-github",
        "colab_type": "text"
      },
      "source": [
        "<a href=\"https://colab.research.google.com/github/Adrianonsare/WebScrapping/blob/main/EPL%20Stats/EPLWebScrapping.ipynb\" target=\"_parent\"><img src=\"https://colab.research.google.com/assets/colab-badge.svg\" alt=\"Open In Colab\"/></a>"
      ]
    },
    {
      "cell_type": "code",
      "metadata": {
        "id": "CEZJxSU8os7h"
      },
      "source": [
        "# !pip install nerodia\n",
        "# !pip install selenium"
      ],
      "execution_count": null,
      "outputs": []
    },
    {
      "cell_type": "code",
      "metadata": {
        "id": "8Gl5RbQRndP1"
      },
      "source": [
        "# !pip install selenium\n",
        "# !apt-get update \n",
        "# !apt install chromium-chromedriver\n"
      ],
      "execution_count": null,
      "outputs": []
    },
    {
      "cell_type": "code",
      "metadata": {
        "id": "AZWbqKXktiC2"
      },
      "source": [
        "\n",
        "from selenium import webdriver\n",
        "from selenium.webdriver.chrome.options import Options\n",
        "chrome_options = webdriver.ChromeOptions()\n",
        "\n",
        "# Setting chrome options as headless means the browser GUI will not be used\n",
        "\n",
        "chrome_options.add_argument('--headless')\n",
        "\n",
        "# No sandbox,and 'disable-dev-shm-usage' prevents headerless chrome from crashing\n",
        "chrome_options.add_argument('--no-sandbox')\n",
        "chrome_options.add_argument('--disable-dev-shm-usage')\n",
        "driver = webdriver.Chrome('chromedriver',chrome_options=chrome_options)"
      ],
      "execution_count": null,
      "outputs": []
    },
    {
      "cell_type": "code",
      "metadata": {
        "id": "_TB7TsHFotnn"
      },
      "source": [
        "# Using Selenium Chrome Options, set headless so the physical GUI of Chrome doesn't have to be used, and no sandbox to avoid crashes on Deepnote\n",
        "from selenium.webdriver.chrome.options import Options\n",
        "options = Options()\n",
        "options.add_argument('--headless')\n",
        "options.add_argument('--no-sandbox') # Remove if running outside deepnote\n",
        "\n",
        "browser = Browser('chrome', options=options) # Create Browser\n",
        "\n"
      ],
      "execution_count": null,
      "outputs": []
    },
    {
      "cell_type": "code",
      "metadata": {
        "id": "dGYepov15kyi"
      },
      "source": [
        ""
      ],
      "execution_count": null,
      "outputs": []
    },
    {
      "cell_type": "code",
      "metadata": {
        "id": "9pKMDcizxats"
      },
      "source": [
        "from nerodia.browser import Browser\n",
        "import pandas as pd\n",
        "import time\n",
        "from functools import reduce\n",
        "\n",
        "\n",
        "tags=['goals','total_pass','touches','total_scoring_att',\n",
        "      'big_chance_missed','appearances','total_offside','dispossessed',\n",
        "      'total_cross','total_through_ball']\n",
        "se='?se=418'\n",
        "\n",
        "urls=['https://www.premierleague.com/stats/top/players/'+str(i)+se for i in tags]\n",
        "# urls\n",
        "# # goals_url='https://www.premierleague.com/stats/top/players/'+str(tags[0])+se\n",
        "# # e\n",
        "\n",
        "goals=urls[0]\n",
        "total_pass=urls[1]\n",
        "touches=urls[2]\n",
        "total_shots=urls[3]\n",
        "big_chance_missed=urls[4]\n",
        "appearances=urls[5]\n",
        "offsides=urls[6]\n",
        "disposessions=urls[7]\n",
        "total_cross=urls[8]\n",
        "total_through_ball=urls[9]"
      ],
      "execution_count": null,
      "outputs": []
    },
    {
      "cell_type": "code",
      "metadata": {
        "id": "5p-4_pzUNk0E"
      },
      "source": [
        "total_pass"
      ],
      "execution_count": null,
      "outputs": []
    },
    {
      "cell_type": "code",
      "metadata": {
        "id": "v00OuEagNk20"
      },
      "source": [
        "\n",
        "# def create_df(df,url,statcol):\n",
        "#   driver.get(url)\n",
        "#   time.sleep(4)\n",
        "#   df = pd.read_html(driver.html)[0]\n",
        "#   while not driver.div(class_name=['paginationBtn', 'paginationNextContainer', 'inactive']).exists:\n",
        "#     driver.div(class_name=['paginationBtn', 'paginationNextContainer']).fire_event('onClick') # fire onClick event on page next element. If it was a button element (not a div element), we could simply use .click() \n",
        "#   # print('Next Page')\n",
        "#     df = df.append(pd.read_html(driver.html)[0]) # append the table from this page with the existing goals dataframe.\n",
        "\n",
        "#   driver.close() # Close Browser\n",
        "#   df=df.rename(columns={\"Stat\": statcol})\n",
        "#   df = df.iloc[: , :-1]\n",
        "#   df=df.drop(columns='Rank')  \n",
        "#   #name=name.rename(columns={\"Stat\":statcol})\n",
        "#   return df\n"
      ],
      "execution_count": null,
      "outputs": []
    },
    {
      "cell_type": "code",
      "metadata": {
        "id": "HD5fAnHXduIX"
      },
      "source": [
        ""
      ],
      "execution_count": null,
      "outputs": []
    },
    {
      "cell_type": "code",
      "metadata": {
        "id": "m5y52Oc-duLZ"
      },
      "source": [
        ""
      ],
      "execution_count": null,
      "outputs": []
    },
    {
      "cell_type": "code",
      "metadata": {
        "id": "IyxFTsjiduOM"
      },
      "source": [
        ""
      ],
      "execution_count": null,
      "outputs": []
    },
    {
      "cell_type": "code",
      "metadata": {
        "id": "-_6Mxihn7JUl"
      },
      "source": [
        "#browser = Browser('chrome', options=options) # Create Browser\n",
        "def create_df(df,url,statcol):\n",
        "  browser.goto(url)\n",
        "  time.sleep(4)\n",
        "  df = pd.read_html(browser.html)[0]\n",
        "  while not browser.div(class_name=['paginationBtn', 'paginationNextContainer', 'inactive']).exists:\n",
        "    browser.div(class_name=['paginationBtn', 'paginationNextContainer']).fire_event('onClick') # fire onClick event on page next element. If it was a button element (not a div element), we could simply use .click() \n",
        "  # print('Next Page')\n",
        "    df = df.append(pd.read_html(browser.html)[0]) # append the table from this page with the existing goals dataframe.\n",
        "\n",
        "  #browser.close() # Close Browser\n",
        "  df=df.rename(columns={\"Stat\": statcol})\n",
        "  df = df.iloc[: , :-1]\n",
        "  df=df.drop(columns='Rank')  \n",
        "  #name=name.rename(columns={\"Stat\":statcol})\n",
        "  return df\n"
      ],
      "execution_count": null,
      "outputs": []
    },
    {
      "cell_type": "code",
      "metadata": {
        "id": "M594xqDh83Wl"
      },
      "source": [
        "goal_df=create_df('goals_df',goals,'Goals')\n",
        "total_pass_df=create_df('total_pass',total_pass,'TotalPasses')\n",
        "touches_df=create_df('touches',touches,'Touches')\n",
        "total_shots_df=create_df('total_shots',total_shots,'TotalShots')\n",
        "big_chance_missed_df=create_df('big_chance_missed',big_chance_missed,'BigChancesMissed')\n",
        "appearances_df=create_df('appearances',appearances,'Appearances')\n",
        "offsides_df=create_df('offsides',offsides,'Offsides')\n",
        "\n",
        "disposessions_df=create_df('disposessions',disposessions,'Disposessions')\n",
        "total_cross_df=create_df('total_cross',total_cross,'TotalCrosses')\n",
        "total_through_ball_df=create_df('total_through_ball',total_through_ball,'ThroughBalls')\n"
      ],
      "execution_count": null,
      "outputs": []
    },
    {
      "cell_type": "code",
      "metadata": {
        "id": "wG9aIDOdecll"
      },
      "source": [
        "total_pass_df"
      ],
      "execution_count": null,
      "outputs": []
    },
    {
      "cell_type": "code",
      "metadata": {
        "id": "bZXLh7LvM6yC"
      },
      "source": [
        ""
      ],
      "execution_count": null,
      "outputs": []
    },
    {
      "cell_type": "code",
      "metadata": {
        "id": "DDKv-kZWM60l"
      },
      "source": [
        "goal_df\n"
      ],
      "execution_count": null,
      "outputs": []
    },
    {
      "cell_type": "code",
      "metadata": {
        "id": "rgv9YfGdM63e"
      },
      "source": [
        ""
      ],
      "execution_count": null,
      "outputs": []
    },
    {
      "cell_type": "code",
      "metadata": {
        "id": "doj5CV-wEgeb"
      },
      "source": [
        "df=reduce(lambda x,y: pd.merge(x,y, on=['Player','Nationality','Club'], how='outer'), [goal_df, total_pass_df, touches_df,total_shots_df,\n",
        "                                                             big_chance_missed_df,appearances_df,offsides_df,disposessions_df,\n",
        "                                                              total_cross_df,total_through_ball_df])\n",
        "df.head()"
      ],
      "execution_count": null,
      "outputs": []
    },
    {
      "cell_type": "code",
      "metadata": {
        "id": "RGci6iOjLEfk"
      },
      "source": [
        "from functools import reduce"
      ],
      "execution_count": null,
      "outputs": []
    },
    {
      "cell_type": "code",
      "metadata": {
        "id": "QGLhtXoUKW_y"
      },
      "source": [
        ""
      ],
      "execution_count": null,
      "outputs": []
    },
    {
      "cell_type": "code",
      "metadata": {
        "id": "Dv2S2KJbKXC6"
      },
      "source": [
        ""
      ],
      "execution_count": null,
      "outputs": []
    },
    {
      "cell_type": "code",
      "metadata": {
        "id": "ffob0aKgC15v"
      },
      "source": [
        ""
      ],
      "execution_count": null,
      "outputs": []
    },
    {
      "cell_type": "code",
      "metadata": {
        "id": "iTB3j0ndCWYZ"
      },
      "source": [
        "goal_df"
      ],
      "execution_count": null,
      "outputs": []
    },
    {
      "cell_type": "code",
      "metadata": {
        "id": "5uZOLS3RA72D"
      },
      "source": [
        "total_pass_df=create_df(total_pass,total_passdf,'TotalPasses')\n",
        "\n"
      ],
      "execution_count": null,
      "outputs": []
    },
    {
      "cell_type": "code",
      "metadata": {
        "id": "3FH1p6DOA75I"
      },
      "source": [
        "total_passdf"
      ],
      "execution_count": null,
      "outputs": []
    },
    {
      "cell_type": "code",
      "metadata": {
        "id": "U_8-A7xftrzV"
      },
      "source": [
        "#Goals\n",
        "browser.goto(goals)\n",
        "time.sleep(4)\n",
        "goals_df = pd.read_html(browser.html)[0]\n",
        "\n",
        "\n",
        "#Goals\n",
        "browser.goto(total_pass)\n",
        "time.sleep(4)\n",
        "total_pass = pd.read_html(browser.html)[0] \n",
        "\n",
        "#touches\n",
        "browser.goto(touches)\n",
        "time.sleep(4)\n",
        "touches = pd.read_html(browser.html)[0] \n",
        "\n",
        "#total_shots\n",
        "browser.goto(total_shots)\n",
        "time.sleep(4)\n",
        "total_shots = pd.read_html(browser.html)[0] \n",
        "\n",
        "#big_chance_missed\n",
        "browser.goto(big_chance_missed)\n",
        "time.sleep(4)\n",
        "big_chance_missed = pd.read_html(browser.html)[0] \n",
        "\n",
        "\n",
        "#appearances\n",
        "browser.goto(appearances)\n",
        "time.sleep(4)\n",
        "appearances = pd.read_html(browser.html)[0] \n",
        "\n",
        "#offsides\n",
        "browser.goto(offsides)\n",
        "time.sleep(4)\n",
        "offsides = pd.read_html(browser.html)[0]\n",
        "\n",
        "#disposessions\n",
        "browser.goto(disposessions)\n",
        "time.sleep(4)\n",
        "disposessions = pd.read_html(browser.html)[0]\n",
        "\n",
        "#total_cross\n",
        "browser.goto(total_cross)\n",
        "time.sleep(4)\n",
        "total_cross = pd.read_html(browser.html)[0]\n",
        "\n",
        "#total_through_ball\n",
        "browser.goto(total_through_ball)\n",
        "time.sleep(4)\n",
        "total_through_ball = pd.read_html(browser.html)[0]"
      ],
      "execution_count": null,
      "outputs": []
    },
    {
      "cell_type": "code",
      "metadata": {
        "id": "J5mA3JV14MeH"
      },
      "source": [
        "goals"
      ],
      "execution_count": null,
      "outputs": []
    },
    {
      "cell_type": "code",
      "metadata": {
        "id": "-hE-MIZG4Mh8"
      },
      "source": [
        "total_pass .iloc[:,4]"
      ],
      "execution_count": null,
      "outputs": []
    },
    {
      "cell_type": "code",
      "metadata": {
        "id": "UXfHFtgP3Vvk"
      },
      "source": [
        "total_pass .head()"
      ],
      "execution_count": null,
      "outputs": []
    },
    {
      "cell_type": "code",
      "metadata": {
        "id": "pA0TIMhUotum"
      },
      "source": [
        "# Note: On the EPL site, when you've reached the end of the table, the table's Page Next element has 'inactive' added to it's class.\n",
        "# Use browser tools to inspect the Page Next html element on the last page of the goals table to see for yourself.\n",
        "# Note: As we know this, we can keep clicking the Page Next button and scraping the table until the element is 'inactive'. In Python we can use while not:\n",
        "while not browser.div(class_name=['paginationBtn', 'paginationNextContainer', 'inactive']).exists:\n",
        "  browser.div(class_name=['paginationBtn', 'paginationNextContainer']).fire_event('onClick') # fire onClick event on page next element. If it was a button element (not a div element), we could simply use .click() \n",
        "  # print('Next Page')\n",
        "  goals_df = goals_df.append(pd.read_html(browser.html)[0]) # append the table from this page with the existing goals dataframe.\n",
        "\n",
        "browser.close() # Close Browser\n",
        "\n",
        "goals_df = goals_df[goals_df['Stat'] > 0] # Random Players at end of table with 0 goals...\n",
        "\n",
        "goals_df = goals_df.dropna(axis=1, how='all') # Random Unamed Column (all NaN elements, so clear columns where 'all' values are NaN)\n",
        "\n",
        "goals_df.to_csv(r'data/epl_goals_20_21.csv', index=False) # Save dataframe to new csv file\n",
        "\n",
        "goals_df"
      ],
      "execution_count": null,
      "outputs": []
    },
    {
      "cell_type": "code",
      "metadata": {
        "id": "6EpQwlt6p4ix"
      },
      "source": [
        ""
      ],
      "execution_count": null,
      "outputs": []
    }
  ]
}