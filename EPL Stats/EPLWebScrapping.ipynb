{
  "nbformat": 4,
  "nbformat_minor": 0,
  "metadata": {
    "colab": {
      "name": "EPLWebScrapping.ipynb",
      "private_outputs": true,
      "provenance": [],
      "collapsed_sections": [],
      "authorship_tag": "ABX9TyPWpdoChsuK2TTZzaoqOwRu",
      "include_colab_link": true
    },
    "kernelspec": {
      "name": "python3",
      "display_name": "Python 3"
    },
    "language_info": {
      "name": "python"
    }
  },
  "cells": [
    {
      "cell_type": "markdown",
      "metadata": {
        "id": "view-in-github",
        "colab_type": "text"
      },
      "source": [
        "<a href=\"https://colab.research.google.com/github/Adrianonsare/WebScrapping/blob/main/EPL%20Stats/EPLWebScrapping.ipynb\" target=\"_parent\"><img src=\"https://colab.research.google.com/assets/colab-badge.svg\" alt=\"Open In Colab\"/></a>"
      ]
    },
    {
      "cell_type": "code",
      "metadata": {
        "id": "CEZJxSU8os7h"
      },
      "source": [
        "# !pip install nerodia\n",
        "# !pip install selenium"
      ],
      "execution_count": null,
      "outputs": []
    },
    {
      "cell_type": "code",
      "metadata": {
        "id": "8Gl5RbQRndP1"
      },
      "source": [
        "# !pip install selenium\n",
        "# !apt-get update \n",
        "# !apt install chromium-chromedriver\n"
      ],
      "execution_count": null,
      "outputs": []
    },
    {
      "cell_type": "code",
      "metadata": {
        "id": "AZWbqKXktiC2"
      },
      "source": [
        "\n",
        "from selenium import webdriver\n",
        "from selenium.webdriver.chrome.options import Options\n",
        "chrome_options = webdriver.ChromeOptions()\n",
        "\n",
        "# Setting chrome options as headless means the browser GUI will not be used\n",
        "\n",
        "chrome_options.add_argument('--headless')\n",
        "\n",
        "# No sandbox,and 'disable-dev-shm-usage' prevents headerless chrome from crashing\n",
        "chrome_options.add_argument('--no-sandbox')\n",
        "chrome_options.add_argument('--disable-dev-shm-usage')\n",
        "driver = webdriver.Chrome('chromedriver',chrome_options=chrome_options)"
      ],
      "execution_count": null,
      "outputs": []
    },
    {
      "cell_type": "code",
      "metadata": {
        "id": "_TB7TsHFotnn"
      },
      "source": [
        "from nerodia.browser import Browser\n",
        "import pandas as pd\n",
        "import time\n",
        "\n",
        "browser = Browser('chrome', options=options) # Create Browser\n",
        "\n",
        "browser.goto('https://www.premierleague.com/stats/top/players/goals?se=418') # Now use the browser to navigate to the EPL Stats Page\n",
        "\n",
        "time.sleep(4) # Allow data time to load into HTML\n",
        "goals_df = pd.read_html(browser.html)[0] # Use Pandas to fetch all the tables within the browser html, select the first table it finds ([0])"
      ],
      "execution_count": null,
      "outputs": []
    },
    {
      "cell_type": "code",
      "metadata": {
        "id": "U_8-A7xftrzV"
      },
      "source": [
        "goals_df "
      ],
      "execution_count": null,
      "outputs": []
    },
    {
      "cell_type": "code",
      "metadata": {
        "id": "pA0TIMhUotum"
      },
      "source": [
        "# Note: On the EPL site, when you've reached the end of the table, the table's Page Next element has 'inactive' added to it's class. Use browser tools to inspect the Page Next html element on the last page of the goals table to see for yourself.\n",
        "# Note: As we know this, we can keep clicking the Page Next button and scraping the table until the element is 'inactive'. In Python we can use while not:\n",
        "while not browser.div(class_name=['paginationBtn', 'paginationNextContainer', 'inactive']).exists:\n",
        "  browser.div(class_name=['paginationBtn', 'paginationNextContainer']).fire_event('onClick') # fire onClick event on page next element. If it was a button element (not a div element), we could simply use .click() \n",
        "  # print('Next Page')\n",
        "  goals_df = goals_df.append(pd.read_html(browser.html)[0]) # append the table from this page with the existing goals dataframe.\n",
        "\n",
        "browser.close() # Close Browser\n",
        "\n",
        "goals_df = goals_df[goals_df['Stat'] > 0] # Random Players at end of table with 0 goals...\n",
        "\n",
        "goals_df = goals_df.dropna(axis=1, how='all') # Random Unamed Column (all NaN elements, so clear columns where 'all' values are NaN)\n",
        "\n",
        "goals_df.to_csv(r'data/epl_goals_20_21.csv', index=False) # Save dataframe to new csv file\n",
        "\n",
        "goals_df"
      ],
      "execution_count": null,
      "outputs": []
    },
    {
      "cell_type": "code",
      "metadata": {
        "id": "6EpQwlt6p4ix"
      },
      "source": [
        ""
      ],
      "execution_count": null,
      "outputs": []
    }
  ]
}