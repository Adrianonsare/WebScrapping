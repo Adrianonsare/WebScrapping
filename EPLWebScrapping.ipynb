{
  "nbformat": 4,
  "nbformat_minor": 0,
  "metadata": {
    "colab": {
      "name": "EPLWebScrapping.ipynb",
      "private_outputs": true,
      "provenance": [],
      "collapsed_sections": [],
      "authorship_tag": "ABX9TyNPdqIEPI7oBavjF1VTWjmV",
      "include_colab_link": true
    },
    "kernelspec": {
      "name": "python3",
      "display_name": "Python 3"
    },
    "language_info": {
      "name": "python"
    }
  },
  "cells": [
    {
      "cell_type": "markdown",
      "metadata": {
        "id": "view-in-github",
        "colab_type": "text"
      },
      "source": [
        "<a href=\"https://colab.research.google.com/github/Adrianonsare/WebScrapping/blob/main/EPLWebScrapping.ipynb\" target=\"_parent\"><img src=\"https://colab.research.google.com/assets/colab-badge.svg\" alt=\"Open In Colab\"/></a>"
      ]
    },
    {
      "cell_type": "code",
      "metadata": {
        "id": "CEZJxSU8os7h"
      },
      "source": [
        "# !pip install nerodia\n",
        "# !pip install selenium"
      ],
      "execution_count": null,
      "outputs": []
    },
    {
      "cell_type": "code",
      "metadata": {
        "id": "8Gl5RbQRndP1"
      },
      "source": [
        "# !pip install selenium\n",
        "# !apt-get update \n",
        "# !apt install chromium-chromedriver\n"
      ],
      "execution_count": null,
      "outputs": []
    },
    {
      "cell_type": "code",
      "metadata": {
        "id": "AZWbqKXktiC2"
      },
      "source": [
        "\n",
        "# from selenium import webdriver\n",
        "# from selenium.webdriver.chrome.options import Options\n",
        "# chrome_options = webdriver.ChromeOptions()\n",
        "\n",
        "# # Setting chrome options as headless means the browser GUI will not be used\n",
        "\n",
        "# chrome_options.add_argument('--headless')\n",
        "\n",
        "# # No sandbox,and 'disable-dev-shm-usage' prevents headerless chrome from crashing\n",
        "# chrome_options.add_argument('--no-sandbox')\n",
        "# chrome_options.add_argument('--disable-dev-shm-usage')\n",
        "# driver = webdriver.Chrome('chromedriver',chrome_options=chrome_options)"
      ],
      "execution_count": null,
      "outputs": []
    },
    {
      "cell_type": "code",
      "metadata": {
        "id": "dGYepov15kyi"
      },
      "source": [
        ""
      ],
      "execution_count": null,
      "outputs": []
    },
    {
      "cell_type": "code",
      "metadata": {
        "id": "9pKMDcizxats"
      },
      "source": [
        "from nerodia.browser import Browser\n",
        "import pandas as pd\n",
        "import numpy as np\n",
        "import time\n",
        "from functools import reduce\n",
        "from selenium.webdriver.chrome.options import Options\n",
        "\n",
        "options = Options()\n",
        "\n",
        "# Using Selenium Chrome Options, set headless so the physical GUI of Chrome doesn't have to be used, and no sandbox to avoid crashes on Deepnote\n",
        "options.add_argument('--headless')\n",
        "options.add_argument('--no-sandbox') # Remove if running outside deepnote\n",
        "\n",
        "browser = Browser('chrome', options=options) # Create Browser\n",
        "\n",
        "\n",
        "#The analysis focuses on attacking players\n",
        "# Each of the metrics has an associated data table\n",
        "# Alist of table tags is created to allow appending to the url string\n",
        "tags=['goals','total_pass','touches','total_scoring_att',\n",
        "      'big_chance_missed','appearances','total_offside','dispossessed',\n",
        "      'total_cross','total_through_ball']\n",
        "se='?se=418'\n",
        "\n",
        "#Base url string\n",
        "urls=['https://www.premierleague.com/stats/top/players/'+str(i)+se for i in tags]\n",
        "\n",
        "#For each table, urls are extracted\n",
        "goals=urls[0]\n",
        "total_pass=urls[1]\n",
        "touches=urls[2]\n",
        "total_shots=urls[3]\n",
        "big_chance_missed=urls[4]\n",
        "appearances=urls[5]\n",
        "offsides=urls[6]\n",
        "disposessions=urls[7]\n",
        "total_cross=urls[8]\n",
        "total_through_ball=urls[9]"
      ],
      "execution_count": null,
      "outputs": []
    },
    {
      "cell_type": "code",
      "metadata": {
        "id": "IyxFTsjiduOM"
      },
      "source": [
        "goals"
      ],
      "execution_count": null,
      "outputs": []
    },
    {
      "cell_type": "code",
      "metadata": {
        "id": "-_6Mxihn7JUl"
      },
      "source": [
        "#create a function to read in the various tables into dataframes\n",
        "def create_df(df,url,statcol):\n",
        "  browser.goto(url)\n",
        "  time.sleep(4) # time delay for data reload\n",
        "\n",
        "  #Create dataframe by reading from html table\n",
        "  df = pd.read_html(browser.html)[0]\n",
        "\n",
        "  #table is paginated. At the last page, the \"next\" button becomes inactive\n",
        "  # the while not loop below allows reading of data from each page until the inactive button is found\n",
        "  # https://deepnote.com/@danielstpaul/EPL-Web-Scraper-GfUde655TFGQbN7gE42hRA\n",
        "  while not browser.div(class_name=['paginationBtn', 'paginationNextContainer', 'inactive']).exists:\n",
        "    browser.div(class_name=['paginationBtn', 'paginationNextContainer']).fire_event('onClick') # fire onClick event on page next element. \n",
        "\n",
        "    df = df.append(pd.read_html(browser.html)[0]) # append the table from this page with the existing dataframe.\n",
        "\n",
        "  #browser.close() # Close Browser\n",
        "  df=df.rename(columns={\"Stat\": statcol})\n",
        "  df = df.iloc[: , :-1] # Drop last \"nan\" column\n",
        "  df=df.drop(columns='Rank') # Drop \"rank\" column\n",
        "  #name=name.rename(columns={\"Stat\":statcol})\n",
        "  return df\n"
      ],
      "execution_count": null,
      "outputs": []
    },
    {
      "cell_type": "code",
      "metadata": {
        "id": "M594xqDh83Wl"
      },
      "source": [
        "#Apply function to create dataframes\n",
        "goal_df=create_df('goals_df',goals,'Goals')\n",
        "total_pass_df=create_df('total_pass',total_pass,'TotalPasses')\n",
        "touches_df=create_df('touches',touches,'Touches')\n",
        "total_shots_df=create_df('total_shots',total_shots,'TotalShots')\n",
        "big_chance_missed_df=create_df('big_chance_missed',big_chance_missed,'BigChancesMissed')\n",
        "appearances_df=create_df('appearances',appearances,'Appearances')\n",
        "offsides_df=create_df('offsides',offsides,'Offsides')\n",
        "\n",
        "disposessions_df=create_df('disposessions',disposessions,'Disposessions')\n",
        "total_cross_df=create_df('total_cross',total_cross,'TotalCrosses')\n",
        "total_through_ball_df=create_df('total_through_ball',total_through_ball,'ThroughBalls')\n"
      ],
      "execution_count": null,
      "outputs": []
    },
    {
      "cell_type": "code",
      "metadata": {
        "id": "PmV6sCNZY8yH"
      },
      "source": [
        ""
      ],
      "execution_count": null,
      "outputs": []
    },
    {
      "cell_type": "code",
      "metadata": {
        "id": "3or5TqVuhLGk"
      },
      "source": [
        "#Merging all dataframes into 1 table\n",
        "\n",
        "#Creating list of dataframes\n",
        "dfs=[goal_df, total_pass_df, touches_df,total_shots_df,\n",
        "     big_chance_missed_df,appearances_df,offsides_df,disposessions_df,\n",
        "     total_cross_df,total_through_ball_df]\n",
        "#Use reduce function to merge all the dataframes all at once\n",
        "df = reduce(lambda  left,right: pd.merge(left,right,on=['Player','Nationality','Club'],\n",
        "                                            how='outer'), dfs).drop_duplicates()\n",
        "\n",
        "#Create First Name and Last Name Features, in order to enhance the optics during vizualization\n",
        "df.loc[df['Player'].str.split().str.len() == 2, 'FirstName'] = df['Player'].str.split().str[0]\n",
        "df['FirstName']=df['FirstName'].str[0]\n",
        "df.loc[df['Player'].str.split().str.len() == 2, 'LastName'] = df['Player'].str.split().str[-1]\n",
        "df['PlayerName']=df['FirstName']+str(\".\")+df['LastName']\n",
        "#Drop Player column\n",
        "df.drop(columns=['FirstName','LastName'],inplace=True)\n",
        "df.head()"
      ],
      "execution_count": null,
      "outputs": []
    },
    {
      "cell_type": "code",
      "metadata": {
        "id": "TeIB8c1OYWpi"
      },
      "source": [
        "df.info()"
      ],
      "execution_count": null,
      "outputs": []
    },
    {
      "cell_type": "markdown",
      "metadata": {
        "id": "nu-DJkw1jCAe"
      },
      "source": [
        "##Data Preparation and Feature Engineering"
      ]
    },
    {
      "cell_type": "code",
      "source": [
        "df.columns"
      ],
      "metadata": {
        "id": "doYPChCwGy5z"
      },
      "execution_count": null,
      "outputs": []
    },
    {
      "cell_type": "code",
      "metadata": {
        "id": "QGLhtXoUKW_y"
      },
      "source": [
        "df=df.fillna(0) #Fill missing values with 0"
      ],
      "execution_count": null,
      "outputs": []
    },
    {
      "cell_type": "code",
      "metadata": {
        "id": "OnybTDeMjv3n"
      },
      "source": [
        "df['ChanceConversion']=df['Goals']/df['TotalShots'] #Create new column for chance conversion"
      ],
      "execution_count": null,
      "outputs": []
    },
    {
      "cell_type": "code",
      "metadata": {
        "id": "ffob0aKgC15v"
      },
      "source": [
        ""
      ],
      "execution_count": null,
      "outputs": []
    },
    {
      "cell_type": "code",
      "metadata": {
        "id": "iTB3j0ndCWYZ"
      },
      "source": [
        "df.describe().T#summary statistics"
      ],
      "execution_count": null,
      "outputs": []
    },
    {
      "cell_type": "markdown",
      "metadata": {
        "id": "OlI40P9ejr3R"
      },
      "source": [
        "## Exploratory Data Analysis"
      ]
    },
    {
      "cell_type": "code",
      "metadata": {
        "id": "6EpQwlt6p4ix"
      },
      "source": [
        "#Import plotting libraries\n",
        "import seaborn as sns\n",
        "import plotly.express as px\n",
        "import matplotlib.pyplot as plt"
      ],
      "execution_count": null,
      "outputs": []
    },
    {
      "cell_type": "code",
      "metadata": {
        "id": "r0xJtt46kSJ4"
      },
      "source": [
        "df['Goals'].hist() #Goals histogram"
      ],
      "execution_count": null,
      "outputs": []
    },
    {
      "cell_type": "code",
      "metadata": {
        "id": "7qoAUTYXkUNR"
      },
      "source": [
        "sns.pairplot(df,hue='Club') #Pairplot of all variables"
      ],
      "execution_count": null,
      "outputs": []
    },
    {
      "cell_type": "code",
      "metadata": {
        "id": "y1jpPwDrkYdX"
      },
      "source": [
        "#Plotting correlation matrix for all variables\n",
        "plt.figure(figsize=(12,7))\n",
        "corr=df.corr()\n",
        "sns.heatmap(corr,cmap='jet',annot=True)\n",
        "plt.title(\"Correlation Matrix for Player Data\")\n",
        "plt.show()"
      ],
      "execution_count": null,
      "outputs": []
    },
    {
      "cell_type": "code",
      "metadata": {
        "id": "6BiEtGTid4FU"
      },
      "source": [
        ""
      ],
      "execution_count": null,
      "outputs": []
    },
    {
      "cell_type": "code",
      "metadata": {
        "id": "TdxY1qoUd4P1"
      },
      "source": [
        ""
      ],
      "execution_count": null,
      "outputs": []
    },
    {
      "cell_type": "code",
      "metadata": {
        "id": "Zzx4HAWGtbdH"
      },
      "source": [
        "#Plotting Big chances missed vs \n",
        "fig = px.scatter(df,x=\"TotalShots\", y=\"BigChancesMissed\",title='Goals Vs Total Shots',\n",
        "                 height=800,width=1100,text=\"PlayerName\")\n",
        "fig.update_traces(textposition=\"bottom right\")\n",
        "fig.show()"
      ],
      "execution_count": null,
      "outputs": []
    },
    {
      "cell_type": "code",
      "metadata": {
        "id": "U1cYMrpYtBuY"
      },
      "source": [
        "\n",
        "fig = px.scatter(df,x=\"ChanceConversion\", y=\"Goals\",title='Goals Vs Total Shots',\n",
        "                 height=800,width=1100,text=\"PlayerName\")\n",
        "fig.update_traces(textposition=\"bottom right\")\n",
        "fig.show()"
      ],
      "execution_count": null,
      "outputs": []
    },
    {
      "cell_type": "code",
      "metadata": {
        "id": "GiW3liHlqjCh"
      },
      "source": [
        "\n",
        "fig = px.scatter(df,x=\"TotalShots\", y=\"Goals\",title='Goals Vs Total Shots',\n",
        "                 height=800,width=950,text=\"PlayerName\")\n",
        "fig.update_traces(textposition=\"bottom right\")\n",
        "fig.show()"
      ],
      "execution_count": null,
      "outputs": []
    },
    {
      "cell_type": "code",
      "metadata": {
        "id": "yVz8pTyNm0-6"
      },
      "source": [
        "plt.figure(figsize=(13,8))\n",
        "sns.displot(x=df['Goals'],hue='Club',data=df,kind=\"kde\", multiple=\"stack\")"
      ],
      "execution_count": null,
      "outputs": []
    },
    {
      "cell_type": "code",
      "metadata": {
        "id": "zsbeQHE1oFON"
      },
      "source": [
        "plt.figure(figsize=(13,8))\n",
        "sns.displot(x=df['TotalShots'],hue='Club',data=df,kind=\"hist\")#, multiple=\"stack\")"
      ],
      "execution_count": null,
      "outputs": []
    },
    {
      "cell_type": "code",
      "metadata": {
        "id": "WSwcN60pbim2"
      },
      "source": [
        ""
      ],
      "execution_count": null,
      "outputs": []
    },
    {
      "cell_type": "markdown",
      "metadata": {
        "id": "mmxwZ9K7bkIO"
      },
      "source": [
        "### Machine Learning"
      ]
    },
    {
      "cell_type": "code",
      "source": [
        "\n",
        "from sklearn import metrics\n",
        "from sklearn.metrics import mean_squared_error, r2_score\n",
        "\n",
        "from sklearn.ensemble import RandomForestRegressor\n",
        "from sklearn.model_selection import train_test_split\n",
        "from sklearn.preprocessing import LabelEncoder\n",
        "from sklearn.model_selection import train_test_split"
      ],
      "metadata": {
        "id": "YowbXi-bqOd_"
      },
      "execution_count": null,
      "outputs": []
    },
    {
      "cell_type": "code",
      "source": [
        "df.columns"
      ],
      "metadata": {
        "id": "jkD838VApYeq"
      },
      "execution_count": null,
      "outputs": []
    },
    {
      "cell_type": "code",
      "source": [
        "df=df.replace([np.inf, -np.inf], np.nan).dropna(axis=1)"
      ],
      "metadata": {
        "id": "szGwF9_auQSr"
      },
      "execution_count": null,
      "outputs": []
    },
    {
      "cell_type": "code",
      "source": [
        "str_cols=df.loc[:, df.dtypes == object]\n",
        "str_cols"
      ],
      "metadata": {
        "id": "4j_lpHzSNZx9"
      },
      "execution_count": null,
      "outputs": []
    },
    {
      "cell_type": "code",
      "metadata": {
        "id": "tzDZCRqdbip-"
      },
      "source": [
        "#Split data into features and target\n",
        "X = str_cols.drop('PlayerName',axis=1)\n",
        "cats=['Player', 'Club', 'Nationality']\n",
        "X[cats]=X[cats].astype('category')\n",
        "X[cats] = X[cats].apply(lambda x: x.cat.codes)\n",
        "y= df['Goals']\n",
        "\n",
        "#Split data into training and test sets\n",
        "#solar\n",
        "X_train, X_test, y_train, y_test = train_test_split(X, y, test_size=0.2, random_state=0)\n",
        "\n",
        "#Initiate model\n",
        "regressor = RandomForestRegressor(n_estimators=20,max_depth=8, random_state=0)\n",
        "\n",
        "#Solar\n",
        "regressor.fit(X_train, y_train)\n",
        "# y_pred = regressor.predict(X_test)\n"
      ],
      "execution_count": null,
      "outputs": []
    },
    {
      "cell_type": "code",
      "source": [
        "y_pred = regressor.predict(X_test)\n"
      ],
      "metadata": {
        "id": "MO3wB4LUp8Za"
      },
      "execution_count": null,
      "outputs": []
    },
    {
      "cell_type": "code",
      "source": [
        "plt.scatter(y_test,y_pred)"
      ],
      "metadata": {
        "id": "9dC4Z7y_p5xv"
      },
      "execution_count": null,
      "outputs": []
    },
    {
      "cell_type": "code",
      "metadata": {
        "id": "uX3EZFEubise"
      },
      "source": [
        "regressor.score(X_test, y_test)"
      ],
      "execution_count": null,
      "outputs": []
    }
  ]
}