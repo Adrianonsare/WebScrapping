{
  "nbformat": 4,
  "nbformat_minor": 0,
  "metadata": {
    "colab": {
      "name": "EPLWebScrapping.ipynb",
      "private_outputs": true,
      "provenance": [],
      "collapsed_sections": [],
      "authorship_tag": "ABX9TyNK33DVNPxsj9arX0tCbsz3",
      "include_colab_link": true
    },
    "kernelspec": {
      "name": "python3",
      "display_name": "Python 3"
    },
    "language_info": {
      "name": "python"
    }
  },
  "cells": [
    {
      "cell_type": "markdown",
      "metadata": {
        "id": "view-in-github",
        "colab_type": "text"
      },
      "source": [
        "<a href=\"https://colab.research.google.com/github/Adrianonsare/WebScrapping/blob/main/EPLWebScrapping.ipynb\" target=\"_parent\"><img src=\"https://colab.research.google.com/assets/colab-badge.svg\" alt=\"Open In Colab\"/></a>"
      ]
    },
    {
      "cell_type": "code",
      "metadata": {
        "id": "CEZJxSU8os7h"
      },
      "source": [
        "# !pip3 install datapane\n",
        "# !pip install pyyaml==5.4.1"
      ],
      "execution_count": null,
      "outputs": []
    },
    {
      "cell_type": "code",
      "metadata": {
        "id": "8Gl5RbQRndP1"
      },
      "source": [
        "!pip install nerodia\n",
        "!pip install selenium\n",
        "!apt-get update \n",
        "!apt install chromium-chromedriver\n"
      ],
      "execution_count": null,
      "outputs": []
    },
    {
      "cell_type": "markdown",
      "source": [
        "# 1. Scraping the EPL Website"
      ],
      "metadata": {
        "id": "wIX4OPdTB-S6"
      }
    },
    {
      "cell_type": "code",
      "metadata": {
        "id": "dGYepov15kyi"
      },
      "source": [
        "#importing libraries\n",
        "from nerodia.browser import Browser\n",
        "import pandas as pd\n",
        "import numpy as np\n",
        "import time\n",
        "from functools import reduce\n",
        "from selenium.webdriver.chrome.options import Options\n",
        "import plotly.express as px\n",
        "import datapane as dp \n",
        "import seaborn as sns\n",
        "import plotly.express as px\n",
        "import matplotlib.pyplot as plt\n",
        "import altair as alt"
      ],
      "execution_count": null,
      "outputs": []
    },
    {
      "cell_type": "code",
      "metadata": {
        "id": "9pKMDcizxats"
      },
      "source": [
        "\n",
        "\n",
        "options = Options()\n",
        "\n",
        "# Using Selenium Chrome Options, set headless so the physical GUI of Chrome doesn't have to be used, and no sandbox to avoid crashes on Deepnote\n",
        "options.add_argument('--headless')\n",
        "options.add_argument('--no-sandbox') # Remove if running outside deepnote\n",
        "\n",
        "browser = Browser('chrome', options=options) # Create Browser\n",
        "\n",
        "\n",
        "#The analysis focuses on attacking players\n",
        "# Each of the metrics has an associated data table\n",
        "# Alist of table tags is created to allow appending to the url string\n",
        "tags=['goals','total_pass','touches','total_scoring_att',\n",
        "      'big_chance_missed','appearances','total_offside','dispossessed',\n",
        "      'total_cross','total_through_ball']\n",
        "se='?se=418'\n",
        "\n",
        "#Base url string\n",
        "urls=['https://www.premierleague.com/stats/top/players/'+str(i)+se for i in tags]\n",
        "\n",
        "#For each table, urls are extracted\n",
        "goals=urls[0]\n",
        "total_pass=urls[1]\n",
        "touches=urls[2]\n",
        "total_shots=urls[3]\n",
        "big_chance_missed=urls[4]\n",
        "appearances=urls[5]\n",
        "offsides=urls[6]\n",
        "disposessions=urls[7]\n",
        "total_cross=urls[8]\n",
        "total_through_ball=urls[9]"
      ],
      "execution_count": null,
      "outputs": []
    },
    {
      "cell_type": "code",
      "metadata": {
        "id": "IyxFTsjiduOM"
      },
      "source": [
        "goals #inspect url"
      ],
      "execution_count": null,
      "outputs": []
    },
    {
      "cell_type": "code",
      "metadata": {
        "id": "-_6Mxihn7JUl"
      },
      "source": [
        "#create a function to read in the various tables into dataframes\n",
        "def create_df(df,url,statcol):\n",
        "  browser.goto(url)\n",
        "  time.sleep(4) # time delay for data reload\n",
        "\n",
        "  #Create dataframe by reading from html table\n",
        "  df = pd.read_html(browser.html)[0]\n",
        "\n",
        "  #table is paginated. At the last page, the \"next\" button becomes inactive\n",
        "  # the while not loop below allows reading of data from each page until the inactive button is found\n",
        "  # https://deepnote.com/@danielstpaul/EPL-Web-Scraper-GfUde655TFGQbN7gE42hRA\n",
        "  while not browser.div(class_name=['paginationBtn', 'paginationNextContainer', 'inactive']).exists:\n",
        "    browser.div(class_name=['paginationBtn', 'paginationNextContainer']).fire_event('onClick') # fire onClick event on page next element. \n",
        "\n",
        "    df = df.append(pd.read_html(browser.html)[0]) # append the table from this page with the existing dataframe.\n",
        "\n",
        "  #browser.close() # Close Browser\n",
        "  df=df.rename(columns={\"Stat\": statcol})\n",
        "  df = df.iloc[: , :-1] # Drop last \"nan\" column\n",
        "  df=df.drop(columns='Rank') # Drop \"rank\" column\n",
        "  #name=name.rename(columns={\"Stat\":statcol})\n",
        "  return df\n"
      ],
      "execution_count": null,
      "outputs": []
    },
    {
      "cell_type": "code",
      "metadata": {
        "id": "M594xqDh83Wl"
      },
      "source": [
        "#Apply function to create dataframes\n",
        "goal_df=create_df('goals_df',goals,'Goals')\n",
        "total_pass_df=create_df('total_pass',total_pass,'TotalPasses')\n",
        "touches_df=create_df('touches',touches,'Touches')\n",
        "total_shots_df=create_df('total_shots',total_shots,'TotalShots')\n",
        "big_chance_missed_df=create_df('big_chance_missed',big_chance_missed,'BigChancesMissed')\n",
        "appearances_df=create_df('appearances',appearances,'Appearances')\n",
        "offsides_df=create_df('offsides',offsides,'Offsides')\n",
        "\n",
        "disposessions_df=create_df('disposessions',disposessions,'Disposessions')\n",
        "total_cross_df=create_df('total_cross',total_cross,'TotalCrosses')\n",
        "total_through_ball_df=create_df('total_through_ball',total_through_ball,'ThroughBalls')\n"
      ],
      "execution_count": null,
      "outputs": []
    },
    {
      "cell_type": "code",
      "metadata": {
        "id": "3or5TqVuhLGk"
      },
      "source": [
        "#Merging all dataframes into 1 df\n",
        "\n",
        "#Creating list of dataframes\n",
        "dfs=[goal_df, total_pass_df, touches_df,total_shots_df,\n",
        "     big_chance_missed_df,appearances_df,offsides_df,disposessions_df,\n",
        "     total_cross_df,total_through_ball_df]\n",
        "#Use reduce function to merge all the dataframes all at once\n",
        "df = reduce(lambda  left,right: pd.merge(left,right,on=['Player','Nationality','Club'],\n",
        "                                            how='outer'), dfs).drop_duplicates()\n",
        "\n",
        "#Create First Name and Last Name Features, in order to enhance the optics during vizualization\n",
        "df.loc[df['Player'].str.split().str.len() == 2, 'FirstName'] = df['Player'].str.split().str[0]\n",
        "df['FirstName']=df['FirstName'].str[0]\n",
        "df.loc[df['Player'].str.split().str.len() == 2, 'LastName'] = df['Player'].str.split().str[-1]\n",
        "df['PlayerName']=df['FirstName']+str(\".\")+df['LastName']\n",
        "#Drop Player column\n",
        "df.drop(columns=['FirstName','LastName'],inplace=True)\n",
        "df.head()"
      ],
      "execution_count": null,
      "outputs": []
    },
    {
      "cell_type": "code",
      "metadata": {
        "id": "TeIB8c1OYWpi"
      },
      "source": [
        "df.info()"
      ],
      "execution_count": null,
      "outputs": []
    },
    {
      "cell_type": "markdown",
      "metadata": {
        "id": "nu-DJkw1jCAe"
      },
      "source": [
        "# 2. Data Preprocessing"
      ]
    },
    {
      "cell_type": "code",
      "source": [
        "df.isnull().sum(axis=0) #Count  null values"
      ],
      "metadata": {
        "id": "EqIZNx1ymZA3"
      },
      "execution_count": null,
      "outputs": []
    },
    {
      "cell_type": "code",
      "source": [
        "df.describe().T #Summary stats"
      ],
      "metadata": {
        "id": "i4MwXJ0Omi4w"
      },
      "execution_count": null,
      "outputs": []
    },
    {
      "cell_type": "code",
      "metadata": {
        "id": "QGLhtXoUKW_y"
      },
      "source": [
        "df=df.fillna(0) #Fill missing values with 0"
      ],
      "execution_count": null,
      "outputs": []
    },
    {
      "cell_type": "code",
      "source": [
        "df.describe().T #check that all rows have vales"
      ],
      "metadata": {
        "id": "JLGVyOiUmnJb"
      },
      "execution_count": null,
      "outputs": []
    },
    {
      "cell_type": "code",
      "metadata": {
        "id": "OnybTDeMjv3n"
      },
      "source": [
        "df['ChanceConversion']=df['Goals']/df['TotalShots'] #Create new column for chance conversion\n",
        "df=df.replace([np.inf, -np.inf], np.nan)\n",
        "df=df.fillna(0)"
      ],
      "execution_count": null,
      "outputs": []
    },
    {
      "cell_type": "markdown",
      "metadata": {
        "id": "OlI40P9ejr3R"
      },
      "source": [
        "#2.Exploratory Data Analysis"
      ]
    },
    {
      "cell_type": "code",
      "source": [
        "# histogram of goalscoring distribution\n",
        "plt.figure(figsize=(12,7))\n",
        "g=sns.histplot(df['Goals'])\n",
        "plt.title(\"Distribution of Goals Scored\")\n",
        "plt.show()\n",
        "\n",
        "# dp.Report(\n",
        "#     dp.Plot(g)\n",
        "# ).upload(name=\"Goals Distribution\")"
      ],
      "metadata": {
        "id": "p-uOkcbjfr3Z"
      },
      "execution_count": null,
      "outputs": []
    },
    {
      "cell_type": "code",
      "source": [
        "df.columns"
      ],
      "metadata": {
        "id": "F3yG18x-gYQN"
      },
      "execution_count": null,
      "outputs": []
    },
    {
      "cell_type": "code",
      "source": [
        "#Distribution of goals scored per club\n",
        "\n",
        "fig=px.box(df,y='Goals',x='Club',title='Goal Scoring Distribution Per Club',template='simple_white',\n",
        "           hover_data=[\"Player\"],color='Club')\n",
        "fig.show()\n",
        "\n",
        "# dp.Report(\n",
        "#     dp.Plot(fig)\n",
        "# ).upload(name=\"Goal Scoring Distribution Per Club\")"
      ],
      "metadata": {
        "id": "uRKa7hxxpTNx"
      },
      "execution_count": null,
      "outputs": []
    },
    {
      "cell_type": "code",
      "source": [
        "# Distribution of median goals scored by nationality\n",
        "goalsNationality=df.groupby('Nationality')['Goals'].median().sort_values(ascending=False).reset_index()[:10]\n",
        "\n",
        "fig=px.bar(goalsNationality,x='Nationality',y='Goals',title='Cumulative Goal Scoring Per Nationality',\n",
        "           text='Goals',template='simple_white')\n",
        "fig.show()\n"
      ],
      "metadata": {
        "id": "D2Lv68eOZtZd"
      },
      "execution_count": null,
      "outputs": []
    },
    {
      "cell_type": "code",
      "metadata": {
        "id": "7qoAUTYXkUNR"
      },
      "source": [
        "#Pairwise correlation of all variables\n",
        "pairplot=sns.pairplot(df) \n",
        "plt.title(\"Pairwise Relationships of Variables\")\n"
      ],
      "execution_count": null,
      "outputs": []
    },
    {
      "cell_type": "code",
      "metadata": {
        "id": "y1jpPwDrkYdX"
      },
      "source": [
        "#Plotting correlation matrix for all variables\n",
        "plt.figure(figsize=(12,7))\n",
        "corr=df.corr()\n",
        "\n",
        "# Generate a mask for the upper triangle\n",
        "mask = np.triu(np.ones_like(corr, dtype=bool))\n",
        "\n",
        "\n",
        "corrPlot=sns.heatmap(corr,mask=mask,cmap='jet',annot=True)\n",
        "plt.title(\"Correlation Matrix for Player Stats\")\n",
        "plt.show()\n",
        "\n",
        "\n",
        "# dp.Report(\n",
        "#     dp.Plot(corrPlot)\n",
        "# ).upload(name=\"Correlation Matrix\")"
      ],
      "execution_count": null,
      "outputs": []
    },
    {
      "cell_type": "code",
      "metadata": {
        "id": "Zzx4HAWGtbdH"
      },
      "source": [
        "#Plotting Goals vs Total Shots\n",
        "\n",
        "fig = px.scatter(df[:20],x=\"TotalShots\", y=\"Goals\",title='Top 20 Goals Vs Total Shots',\n",
        "                 height=800,width=1100,text=\"PlayerName\",template='plotly_dark')\n",
        "fig.update_traces(textposition=\"top center\",orientation='v',textfont_size=8.5,\n",
        "                  )\n",
        "fig.show()\n",
        "\n",
        "# dp.Report(\n",
        "#     dp.Plot(fig)\n",
        "# ).upload(name=\"Goals Vs Shots\")"
      ],
      "execution_count": null,
      "outputs": []
    },
    {
      "cell_type": "code",
      "source": [
        ""
      ],
      "metadata": {
        "id": "nD_ieM2PxpZ_"
      },
      "execution_count": null,
      "outputs": []
    },
    {
      "cell_type": "code",
      "source": [
        "#Plotting Goals vs Total Shots\n",
        "\n",
        "fig = px.scatter(df[:20],x=\"BigChancesMissed\", y=\"Goals\",title='Top 20 Goals Vs Big Chances Missed',\n",
        "                 height=800,width=1100,text=\"PlayerName\",template='plotly_dark')\n",
        "fig.update_traces(textposition=\"top center\",orientation='v',textfont_size=8.5,\n",
        "                  )\n",
        "fig.show()\n",
        "\n",
        "# dp.Report(\n",
        "#     dp.Plot(fig)\n",
        "# ).upload(name=\"Goals Vs Big Chances Missed\")"
      ],
      "metadata": {
        "id": "6taClaZ2xpcl"
      },
      "execution_count": null,
      "outputs": []
    },
    {
      "cell_type": "code",
      "source": [
        "df['ShotsPerGoal']=1/df['ChanceConversion']\n",
        "fig1 = px.scatter(df[:20],x=\"ShotEfficiency\", y=\"Goals\",title='Top 20 Goals Vs Shots Per Goal',\n",
        "                 height=800,width=1100,text=\"PlayerName\",template='plotly_dark')\n",
        "fig1.update_traces(textposition=\"top center\",orientation='v',textfont_size=8.5)\n",
        "fig1.show()\n",
        "\n",
        "# dp.Report(\n",
        "#     dp.Plot(fig1)\n",
        "# ).upload(name=\"Goals Vs Shots Per Goal\")"
      ],
      "metadata": {
        "id": "RkhL40yTxpfb"
      },
      "execution_count": null,
      "outputs": []
    },
    {
      "cell_type": "code",
      "source": [
        ""
      ],
      "metadata": {
        "id": "-zkkPSz67QMJ"
      },
      "execution_count": null,
      "outputs": []
    },
    {
      "cell_type": "code",
      "source": [
        "\n",
        "fig1 = px.scatter(df[:20],x=\"Offsides\", y=\"Goals\",title='Top 20 Goals Vs Offsides',\n",
        "                 height=800,width=1100,text=\"PlayerName\",template='plotly_dark')\n",
        "fig1.update_traces(textposition=\"top center\",orientation='v',textfont_size=8.5)\n",
        "fig1.show()\n",
        "\n",
        "# dp.Report(\n",
        "#     dp.Plot(fig1)\n",
        "# ).upload(name=\"Goals Vs Offsides\")"
      ],
      "metadata": {
        "id": "sKLXeXf37QPE"
      },
      "execution_count": null,
      "outputs": []
    },
    {
      "cell_type": "code",
      "metadata": {
        "id": "yVz8pTyNm0-6"
      },
      "source": [
        "plt.figure(figsize=(14,10))\n",
        "sns.displot(x=df['Goals'],hue='Club',data=df,kind=\"kde\", multiple=\"stack\")"
      ],
      "execution_count": null,
      "outputs": []
    },
    {
      "cell_type": "code",
      "metadata": {
        "id": "zsbeQHE1oFON"
      },
      "source": [
        "plt.figure(figsize=(13,8))\n",
        "sns.displot(x=df['TotalShots'],hue='Club',data=df,kind=\"hist\")#, multiple=\"stack\")"
      ],
      "execution_count": null,
      "outputs": []
    },
    {
      "cell_type": "markdown",
      "source": [
        "### Machine Learning - Prediction of Goal-Scoring"
      ],
      "metadata": {
        "id": "WWX2GAF140-c"
      }
    },
    {
      "cell_type": "code",
      "source": [
        "\n",
        "# from sklearn import metrics\n",
        "# from sklearn.metrics import mean_squared_error, r2_score\n",
        "\n",
        "# from sklearn.ensemble import RandomForestRegressor\n",
        "# from sklearn.model_selection import train_test_split\n",
        "# from sklearn.preprocessing import LabelEncoder\n",
        "# from sklearn.model_selection import train_test_split"
      ],
      "metadata": {
        "id": "YowbXi-bqOd_"
      },
      "execution_count": null,
      "outputs": []
    },
    {
      "cell_type": "code",
      "source": [
        "# df.columns"
      ],
      "metadata": {
        "id": "jkD838VApYeq"
      },
      "execution_count": null,
      "outputs": []
    },
    {
      "cell_type": "code",
      "source": [
        "# df=df.replace([np.inf, -np.inf], np.nan).dropna(axis=1)"
      ],
      "metadata": {
        "id": "szGwF9_auQSr"
      },
      "execution_count": null,
      "outputs": []
    },
    {
      "cell_type": "code",
      "source": [
        "# str_cols=df.loc[:, df.dtypes == object]\n",
        "# str_cols"
      ],
      "metadata": {
        "id": "4j_lpHzSNZx9"
      },
      "execution_count": null,
      "outputs": []
    },
    {
      "cell_type": "code",
      "metadata": {
        "id": "tzDZCRqdbip-"
      },
      "source": [
        "# #Split data into features and target\n",
        "# X = str_cols.drop('PlayerName',axis=1)\n",
        "# cats=['Player', 'Club', 'Nationality']\n",
        "# X[cats]=X[cats].astype('category')\n",
        "# X[cats] = X[cats].apply(lambda x: x.cat.codes)\n",
        "# y= df['Goals']\n",
        "\n",
        "# #Split data into training and test sets\n",
        "# #solar\n",
        "# X_train, X_test, y_train, y_test = train_test_split(X, y, test_size=0.2, random_state=0)\n",
        "\n",
        "# #Initiate model\n",
        "# regressor = RandomForestRegressor(n_estimators=20,max_depth=8, random_state=0)\n",
        "\n",
        "# #Solar\n",
        "# regressor.fit(X_train, y_train)\n",
        "# # y_pred = regressor.predict(X_test)\n"
      ],
      "execution_count": null,
      "outputs": []
    },
    {
      "cell_type": "code",
      "source": [
        "# y_pred = regressor.predict(X_test)\n"
      ],
      "metadata": {
        "id": "MO3wB4LUp8Za"
      },
      "execution_count": null,
      "outputs": []
    },
    {
      "cell_type": "code",
      "source": [
        "# plt.scatter(y_test,y_pred)"
      ],
      "metadata": {
        "id": "9dC4Z7y_p5xv"
      },
      "execution_count": null,
      "outputs": []
    },
    {
      "cell_type": "code",
      "metadata": {
        "id": "uX3EZFEubise"
      },
      "source": [
        "# regressor.score(X_test, y_test)"
      ],
      "execution_count": null,
      "outputs": []
    }
  ]
}